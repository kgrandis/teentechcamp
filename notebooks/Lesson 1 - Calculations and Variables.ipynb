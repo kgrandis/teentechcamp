{
 "metadata": {
  "name": "Lesson 1 - Calculations and Variables"
 },
 "nbformat": 3,
 "nbformat_minor": 0,
 "worksheets": [
  {
   "cells": [
    {
     "cell_type": "markdown",
     "metadata": {},
     "source": [
      "Doing Math\n",
      "===================================\n",
      "\n",
      "Use Python to calculate some basic math\n",
      "\n",
      " \\+ : Addition\n",
      "\n",
      " \\- : Subtraction\n",
      "\n",
      " \\* : Multiplication\n",
      "\n",
      " / : Division\n",
      "\n"
     ]
    },
    {
     "cell_type": "code",
     "collapsed": false,
     "input": [
      "2+2"
     ],
     "language": "python",
     "metadata": {},
     "outputs": []
    },
    {
     "cell_type": "code",
     "collapsed": false,
     "input": [
      "4-2"
     ],
     "language": "python",
     "metadata": {},
     "outputs": []
    },
    {
     "cell_type": "code",
     "collapsed": false,
     "input": [
      "5*2"
     ],
     "language": "python",
     "metadata": {},
     "outputs": []
    },
    {
     "cell_type": "code",
     "collapsed": false,
     "input": [
      "0.5 * 2"
     ],
     "language": "python",
     "metadata": {},
     "outputs": []
    },
    {
     "cell_type": "code",
     "collapsed": false,
     "input": [
      "10/2"
     ],
     "language": "python",
     "metadata": {},
     "outputs": []
    },
    {
     "cell_type": "code",
     "collapsed": false,
     "input": [
      "(5 * 2) + (2000 * 123)"
     ],
     "language": "python",
     "metadata": {},
     "outputs": []
    },
    {
     "cell_type": "markdown",
     "metadata": {},
     "source": [
      "What happens when you try to multiply really big numbers? What happens when you divide by zero?"
     ]
    },
    {
     "cell_type": "markdown",
     "metadata": {},
     "source": [
      "Variables\n",
      "=========\n",
      "\n",
      "***Variables*** are used to store or reference information. \n",
      "\n",
      "You can think of them as labels for information or data."
     ]
    },
    {
     "cell_type": "code",
     "collapsed": false,
     "input": [
      "cats = 2\n",
      "\n",
      "cats"
     ],
     "language": "python",
     "metadata": {},
     "outputs": []
    },
    {
     "cell_type": "code",
     "collapsed": false,
     "input": [
      "cats = 2\n",
      "dogs = 3\n",
      "\n",
      "cats + dogs"
     ],
     "language": "python",
     "metadata": {},
     "outputs": []
    },
    {
     "cell_type": "code",
     "collapsed": false,
     "input": [
      "people = 10\n",
      "pizza_slices_per_person = 2\n",
      "\n",
      "number_slices_needed = people * pizza_slices_per_person\n",
      "\n",
      "print(number_slices_needed)"
     ],
     "language": "python",
     "metadata": {},
     "outputs": []
    },
    {
     "cell_type": "markdown",
     "metadata": {},
     "source": [
      "What happens below? Can you guess what the values of A and B will be?"
     ]
    },
    {
     "cell_type": "code",
     "collapsed": false,
     "input": [
      "A = 10\n",
      "B = A\n",
      "print(A)\n",
      "print(B)\n",
      "\n",
      "print(\"======\")\n",
      "\n",
      "A = 20\n",
      "\n",
      "print(A)\n",
      "print(B)"
     ],
     "language": "python",
     "metadata": {},
     "outputs": []
    },
    {
     "cell_type": "markdown",
     "metadata": {},
     "source": [
      "What will rabbit be?"
     ]
    },
    {
     "cell_type": "code",
     "collapsed": false,
     "input": [
      "turtle = 1\n",
      "rabbit = turtle + 1\n",
      "rabbit = rabbit + 1\n",
      "\n",
      "print(rabbit)"
     ],
     "language": "python",
     "metadata": {},
     "outputs": []
    },
    {
     "cell_type": "markdown",
     "metadata": {},
     "source": [
      "Variables don't have to just hold numbers. They can hold messages or text called ***strings***.\n",
      "\n",
      "Better change this to your own favorite type of pie!"
     ]
    },
    {
     "cell_type": "code",
     "collapsed": false,
     "input": [
      "best_pie = \"buttermilk pie\"\n",
      "\n",
      "print(best_pie)"
     ],
     "language": "python",
     "metadata": {},
     "outputs": []
    },
    {
     "cell_type": "markdown",
     "metadata": {},
     "source": [
      "You can add strings just like you can add numbers. What happens when you do other types of math with strings, like subtraction or multiplication?"
     ]
    },
    {
     "cell_type": "code",
     "collapsed": false,
     "input": [
      "best_pie = \"buttermilk pie\"\n",
      "print(\"I like \" + best_pie)"
     ],
     "language": "python",
     "metadata": {},
     "outputs": []
    },
    {
     "cell_type": "markdown",
     "metadata": {},
     "source": [
      "Variables are labels and can be \"reattached\" or *reassigned* values:"
     ]
    },
    {
     "cell_type": "code",
     "collapsed": false,
     "input": [
      "dog = \"blue\"\n",
      "dog = \"green\"\n",
      "dog = 3\n",
      "dog = -1\n",
      "\n",
      "print(dog)"
     ],
     "language": "python",
     "metadata": {},
     "outputs": []
    },
    {
     "cell_type": "markdown",
     "metadata": {},
     "source": [
      "Try It Out!\n",
      "==========="
     ]
    }
   ],
   "metadata": {}
  }
 ]
}