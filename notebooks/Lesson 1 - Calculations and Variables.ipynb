{
 "metadata": {
  "name": "Lesson 1 - Calculations and Variables"
 },
 "nbformat": 3,
 "nbformat_minor": 0,
 "worksheets": [
  {
   "cells": [
    {
     "cell_type": "markdown",
     "metadata": {},
     "source": [
      "Well, That's an Expensive Calculator\n",
      "===================================\n",
      "\n",
      "Use Python to calculate some basic math\n",
      "\n",
      " \\+ : Addition\n",
      "\n",
      " \\- : Subtraction\n",
      "\n",
      " \\* : Multiplication\n",
      "\n",
      " / : Division\n",
      "\n"
     ]
    },
    {
     "cell_type": "code",
     "collapsed": false,
     "input": [
      "2+2"
     ],
     "language": "python",
     "metadata": {},
     "outputs": [
      {
       "output_type": "pyout",
       "prompt_number": 1,
       "text": [
        "4"
       ]
      }
     ],
     "prompt_number": 1
    },
    {
     "cell_type": "code",
     "collapsed": false,
     "input": [
      "4-2"
     ],
     "language": "python",
     "metadata": {},
     "outputs": [
      {
       "output_type": "pyout",
       "prompt_number": 2,
       "text": [
        "2"
       ]
      }
     ],
     "prompt_number": 2
    },
    {
     "cell_type": "code",
     "collapsed": false,
     "input": [
      "5*2"
     ],
     "language": "python",
     "metadata": {},
     "outputs": [
      {
       "output_type": "pyout",
       "prompt_number": 3,
       "text": [
        "10"
       ]
      }
     ],
     "prompt_number": 3
    },
    {
     "cell_type": "code",
     "collapsed": false,
     "input": [
      "0.5 * 2"
     ],
     "language": "python",
     "metadata": {},
     "outputs": [
      {
       "output_type": "pyout",
       "prompt_number": 4,
       "text": [
        "1.0"
       ]
      }
     ],
     "prompt_number": 4
    },
    {
     "cell_type": "code",
     "collapsed": false,
     "input": [
      "10/2"
     ],
     "language": "python",
     "metadata": {},
     "outputs": [
      {
       "output_type": "pyout",
       "prompt_number": 6,
       "text": [
        "5"
       ]
      }
     ],
     "prompt_number": 6
    },
    {
     "cell_type": "code",
     "collapsed": false,
     "input": [
      "(5 * 2) + (2000 * 123)"
     ],
     "language": "python",
     "metadata": {},
     "outputs": [
      {
       "output_type": "pyout",
       "prompt_number": 8,
       "text": [
        "246010"
       ]
      }
     ],
     "prompt_number": 8
    },
    {
     "cell_type": "markdown",
     "metadata": {},
     "source": [
      "Variables\n",
      "=========\n",
      "\n",
      "***Variables*** are used to store or reference information. \n",
      "\n",
      "You can think of them as labels for information or data."
     ]
    },
    {
     "cell_type": "code",
     "collapsed": false,
     "input": [
      "cats = 2\n",
      "\n",
      "cats"
     ],
     "language": "python",
     "metadata": {},
     "outputs": [
      {
       "output_type": "pyout",
       "prompt_number": 13,
       "text": [
        "2"
       ]
      }
     ],
     "prompt_number": 13
    },
    {
     "cell_type": "code",
     "collapsed": false,
     "input": [
      "cats = 2\n",
      "dogs = 3\n",
      "\n",
      "cats + dogs"
     ],
     "language": "python",
     "metadata": {},
     "outputs": [
      {
       "output_type": "pyout",
       "prompt_number": 14,
       "text": [
        "5"
       ]
      }
     ],
     "prompt_number": 14
    },
    {
     "cell_type": "code",
     "collapsed": false,
     "input": [
      "people = 10\n",
      "pizza_slices_per_person = 2\n",
      "\n",
      "number_slices_needed = people * pizza_slices_per_person\n",
      "\n",
      "print(number_slices_needed)"
     ],
     "language": "python",
     "metadata": {},
     "outputs": [
      {
       "output_type": "stream",
       "stream": "stdout",
       "text": [
        "20\n"
       ]
      }
     ],
     "prompt_number": 16
    },
    {
     "cell_type": "markdown",
     "metadata": {},
     "source": [
      "What happens below? Can you guess what the values of A and B will be?"
     ]
    },
    {
     "cell_type": "code",
     "collapsed": false,
     "input": [
      "A = 10\n",
      "B = A\n",
      "print(A)\n",
      "print(B)\n",
      "\n",
      "print(\"======\")\n",
      "\n",
      "A = 20\n",
      "\n",
      "print(A)\n",
      "print(B)"
     ],
     "language": "python",
     "metadata": {},
     "outputs": [
      {
       "output_type": "stream",
       "stream": "stdout",
       "text": [
        "10\n",
        "10\n",
        "======\n",
        "20\n",
        "10\n"
       ]
      }
     ],
     "prompt_number": 22
    },
    {
     "cell_type": "markdown",
     "metadata": {},
     "source": [
      "What will rabbit be?"
     ]
    },
    {
     "cell_type": "code",
     "collapsed": false,
     "input": [
      "turtle = 1\n",
      "rabbit = turtle + 1\n",
      "rabbit = rabbit + 1\n",
      "\n",
      "print(rabbit)"
     ],
     "language": "python",
     "metadata": {},
     "outputs": [
      {
       "output_type": "stream",
       "stream": "stdout",
       "text": [
        "3\n"
       ]
      }
     ],
     "prompt_number": 27
    },
    {
     "cell_type": "markdown",
     "metadata": {},
     "source": [
      "Variables don't have to just hold numbers. They can hold messages or text called ***strings***.\n",
      "\n",
      "Better change the cheer if you don't like the message!"
     ]
    },
    {
     "cell_type": "code",
     "collapsed": false,
     "input": [
      "cheer = \"Go Duke!\"\n",
      "\n",
      "print(cheer)"
     ],
     "language": "python",
     "metadata": {},
     "outputs": [
      {
       "output_type": "stream",
       "stream": "stdout",
       "text": [
        "Go Duke!\n"
       ]
      }
     ],
     "prompt_number": 17
    },
    {
     "cell_type": "markdown",
     "metadata": {},
     "source": [
      "Variables are labels and can be \"reattached\" or *reassigned* values:"
     ]
    },
    {
     "cell_type": "code",
     "collapsed": false,
     "input": [
      "dog = \"blue\"\n",
      "dog = \"green\"\n",
      "dog = 3\n",
      "dog = -1\n",
      "\n",
      "print(dog)"
     ],
     "language": "python",
     "metadata": {},
     "outputs": [
      {
       "output_type": "stream",
       "stream": "stdout",
       "text": [
        "-1\n"
       ]
      }
     ],
     "prompt_number": 24
    },
    {
     "cell_type": "markdown",
     "metadata": {},
     "source": [
      "You Try It\n",
      "=========="
     ]
    },
    {
     "cell_type": "markdown",
     "metadata": {},
     "source": []
    }
   ],
   "metadata": {}
  }
 ]
}