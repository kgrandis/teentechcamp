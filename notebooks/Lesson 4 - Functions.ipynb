{
 "metadata": {
  "name": "Lesson 4 - Functions"
 },
 "nbformat": 3,
 "nbformat_minor": 0,
 "worksheets": [
  {
   "cells": [
    {
     "cell_type": "markdown",
     "metadata": {},
     "source": [
      "Functions\n",
      "=========\n",
      "\n",
      "Functions are a way to collect a set of instructions into a single chunk. You can then \"call\" that chunk of code and use it later by referencing its name.\n",
      "\n",
      "**`def`** is used to \"define\" a function. Below we will create a function called **`add`**. Can you guess what it does?"
     ]
    },
    {
     "cell_type": "code",
     "collapsed": false,
     "input": [
      "def add(x, y):\n",
      "    return x + y\n",
      "\n",
      "add(2,2)"
     ],
     "language": "python",
     "metadata": {},
     "outputs": [
      {
       "output_type": "pyout",
       "prompt_number": 2,
       "text": [
        "4"
       ]
      }
     ],
     "prompt_number": 2
    },
    {
     "cell_type": "code",
     "collapsed": false,
     "input": [
      "add(2,1)"
     ],
     "language": "python",
     "metadata": {},
     "outputs": [
      {
       "output_type": "pyout",
       "prompt_number": 3,
       "text": [
        "3"
       ]
      }
     ],
     "prompt_number": 3
    },
    {
     "cell_type": "markdown",
     "metadata": {},
     "source": [
      "**`return`** defines what the function's output will be. What should it \"return\" to the caller?"
     ]
    },
    {
     "cell_type": "code",
     "collapsed": false,
     "input": [
      "def func1():\n",
      "    return \"I'm a function\"\n",
      "\n",
      "func1()"
     ],
     "language": "python",
     "metadata": {},
     "outputs": [
      {
       "output_type": "pyout",
       "prompt_number": 6,
       "text": [
        "\"I'm a function\""
       ]
      }
     ],
     "prompt_number": 6
    },
    {
     "cell_type": "code",
     "collapsed": false,
     "input": [
      "print(func1())\n",
      "print(func1())\n",
      "print(func1())"
     ],
     "language": "python",
     "metadata": {},
     "outputs": [
      {
       "output_type": "stream",
       "stream": "stdout",
       "text": [
        "I'm a function\n",
        "I'm a function\n",
        "I'm a function\n"
       ]
      }
     ],
     "prompt_number": 11
    },
    {
     "cell_type": "code",
     "collapsed": false,
     "input": [
      "def make_sandwich(ingredients, crust, diagonal):\n",
      "    print(\"I am making a sandwich using: %s\" % ingredients)\n",
      "    if not crust:\n",
      "        print(\"I will remove the crust\")\n",
      "    if diagonal:\n",
      "        print(\"It will be cut diagonally\")\n",
      "    else:\n",
      "        print(\"It will be cut straight across\")\n",
      "        \n",
      "\n",
      "make_sandwich(\"PB&J\", True, True)"
     ],
     "language": "python",
     "metadata": {},
     "outputs": [
      {
       "output_type": "stream",
       "stream": "stdout",
       "text": [
        "I am making a sandwich using: PB&J\n",
        "It will be cut diagonally\n"
       ]
      }
     ],
     "prompt_number": 13
    },
    {
     "cell_type": "code",
     "collapsed": false,
     "input": [
      "def count_up(n):\n",
      "    for i in range(n):\n",
      "        print(i)\n",
      "        \n",
      "        \n",
      "count_up(5)"
     ],
     "language": "python",
     "metadata": {},
     "outputs": [
      {
       "output_type": "stream",
       "stream": "stdout",
       "text": [
        "0\n",
        "1\n",
        "2\n",
        "3\n",
        "4\n"
       ]
      }
     ],
     "prompt_number": 15
    },
    {
     "cell_type": "code",
     "collapsed": false,
     "input": [
      "def burp(word):\n",
      "    return word + \" BURP!\"\n",
      "    \n",
      "print(burp(\"Hello!\"))\n",
      "print(burp(\"Smurp\"))"
     ],
     "language": "python",
     "metadata": {},
     "outputs": [
      {
       "output_type": "stream",
       "stream": "stdout",
       "text": [
        "Hello! BURP!\n",
        "Smurp BURP!\n"
       ]
      }
     ],
     "prompt_number": 19
    },
    {
     "cell_type": "code",
     "collapsed": false,
     "input": [],
     "language": "python",
     "metadata": {},
     "outputs": []
    }
   ],
   "metadata": {}
  }
 ]
}