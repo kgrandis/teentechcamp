{
 "metadata": {
  "name": "Lesson 3 - Logic and Control Structures"
 },
 "nbformat": 3,
 "nbformat_minor": 0,
 "worksheets": [
  {
   "cells": [
    {
     "cell_type": "markdown",
     "metadata": {},
     "source": [
      "Logic & Control Structures\n",
      "==========================\n",
      "\n",
      "We have seen how to read inputs and produce output, but how do we make a program \"think\" and change its behavior based on different conditions or inputs?\n",
      "\n",
      "\n",
      "Comparisons\n",
      "-----------\n",
      "\n",
      "The first step is being able compare data values with program expectations.\n",
      "\n",
      "`==` is the equality operator. It tests whether two values are the same."
     ]
    },
    {
     "cell_type": "code",
     "collapsed": false,
     "input": [
      "1 == 1"
     ],
     "language": "python",
     "metadata": {},
     "outputs": [
      {
       "output_type": "pyout",
       "prompt_number": 1,
       "text": [
        "True"
       ]
      }
     ],
     "prompt_number": 1
    },
    {
     "cell_type": "code",
     "collapsed": false,
     "input": [
      "1 == 2"
     ],
     "language": "python",
     "metadata": {},
     "outputs": [
      {
       "output_type": "pyout",
       "prompt_number": 2,
       "text": [
        "False"
       ]
      }
     ],
     "prompt_number": 2
    },
    {
     "cell_type": "code",
     "collapsed": false,
     "input": [
      "2 == (1 + 1)"
     ],
     "language": "python",
     "metadata": {},
     "outputs": [
      {
       "output_type": "pyout",
       "prompt_number": 3,
       "text": [
        "True"
       ]
      }
     ],
     "prompt_number": 3
    },
    {
     "cell_type": "markdown",
     "metadata": {},
     "source": [
      "**Remember:**  `=` is used to assign a variable a value. `==` is used to test equality."
     ]
    },
    {
     "cell_type": "code",
     "collapsed": false,
     "input": [
      "a = 1\n",
      "b = 2\n",
      "\n",
      "a == b"
     ],
     "language": "python",
     "metadata": {},
     "outputs": [
      {
       "output_type": "pyout",
       "prompt_number": 4,
       "text": [
        "False"
       ]
      }
     ],
     "prompt_number": 4
    },
    {
     "cell_type": "code",
     "collapsed": false,
     "input": [
      "a = 1\n",
      "b = 1\n",
      "\n",
      "a == b"
     ],
     "language": "python",
     "metadata": {},
     "outputs": [
      {
       "output_type": "pyout",
       "prompt_number": 5,
       "text": [
        "True"
       ]
      }
     ],
     "prompt_number": 5
    },
    {
     "cell_type": "code",
     "collapsed": false,
     "input": [
      "True == True"
     ],
     "language": "python",
     "metadata": {},
     "outputs": [
      {
       "output_type": "pyout",
       "prompt_number": 6,
       "text": [
        "True"
       ]
      }
     ],
     "prompt_number": 6
    },
    {
     "cell_type": "code",
     "collapsed": false,
     "input": [
      "True == False"
     ],
     "language": "python",
     "metadata": {},
     "outputs": [
      {
       "output_type": "pyout",
       "prompt_number": 7,
       "text": [
        "False"
       ]
      }
     ],
     "prompt_number": 7
    },
    {
     "cell_type": "code",
     "collapsed": false,
     "input": [
      "1 == \"1\""
     ],
     "language": "python",
     "metadata": {},
     "outputs": [
      {
       "output_type": "pyout",
       "prompt_number": 8,
       "text": [
        "False"
       ]
      }
     ],
     "prompt_number": 8
    },
    {
     "cell_type": "code",
     "collapsed": false,
     "input": [
      "\"cat\" == \"dog\""
     ],
     "language": "python",
     "metadata": {},
     "outputs": [
      {
       "output_type": "pyout",
       "prompt_number": 11,
       "text": [
        "False"
       ]
      }
     ],
     "prompt_number": 11
    },
    {
     "cell_type": "code",
     "collapsed": false,
     "input": [
      "\"cat\" == \"cat\""
     ],
     "language": "python",
     "metadata": {},
     "outputs": [
      {
       "output_type": "pyout",
       "prompt_number": 12,
       "text": [
        "True"
       ]
      }
     ],
     "prompt_number": 12
    },
    {
     "cell_type": "markdown",
     "metadata": {},
     "source": [
      "Other Comparison Operators\n",
      "--------------------------\n",
      "\n",
      "!=  Not Equal To\n",
      "\n",
      "\\>  Greater Than\n",
      "\n",
      "<  Less Than\n",
      "\n",
      "\\>=  Greater Than or Equal to\n",
      "\n",
      "<=  Less than or Equal to"
     ]
    },
    {
     "cell_type": "code",
     "collapsed": false,
     "input": [
      "1 > 2"
     ],
     "language": "python",
     "metadata": {},
     "outputs": [
      {
       "output_type": "pyout",
       "prompt_number": 13,
       "text": [
        "False"
       ]
      }
     ],
     "prompt_number": 13
    },
    {
     "cell_type": "code",
     "collapsed": false,
     "input": [
      "2 < 4"
     ],
     "language": "python",
     "metadata": {},
     "outputs": [
      {
       "output_type": "pyout",
       "prompt_number": 14,
       "text": [
        "True"
       ]
      }
     ],
     "prompt_number": 14
    },
    {
     "cell_type": "code",
     "collapsed": false,
     "input": [
      "4 >= 3"
     ],
     "language": "python",
     "metadata": {},
     "outputs": [
      {
       "output_type": "pyout",
       "prompt_number": 15,
       "text": [
        "True"
       ]
      }
     ],
     "prompt_number": 15
    },
    {
     "cell_type": "code",
     "collapsed": false,
     "input": [
      "guess_count = 2\n",
      "max_guesses = 5\n",
      "\n",
      "guess_count < max_guesses"
     ],
     "language": "python",
     "metadata": {},
     "outputs": [
      {
       "output_type": "pyout",
       "prompt_number": 16,
       "text": [
        "True"
       ]
      }
     ],
     "prompt_number": 16
    },
    {
     "cell_type": "code",
     "collapsed": false,
     "input": [],
     "language": "python",
     "metadata": {},
     "outputs": []
    },
    {
     "cell_type": "markdown",
     "metadata": {},
     "source": [
      "Logic or Conditionals\n",
      "---------------------\n",
      "\n",
      "We can now test if certain conditions are met (e.g. did the user enter the correct number?). Now we need a way to make our program react to the results of our tests."
     ]
    },
    {
     "cell_type": "code",
     "collapsed": false,
     "input": [
      "# Change the value of \"guess\" so that you win\n",
      "\n",
      "guess = 0\n",
      "magic_number = 10\n",
      "\n",
      "if guess == magic_number:\n",
      "    print(\"You Win!\")\n",
      "else:\n",
      "    print(\"You Lose\")"
     ],
     "language": "python",
     "metadata": {},
     "outputs": [
      {
       "output_type": "stream",
       "stream": "stdout",
       "text": [
        "You Lose\n"
       ]
      }
     ],
     "prompt_number": 17
    },
    {
     "cell_type": "code",
     "collapsed": false,
     "input": [
      "guess = 0\n",
      "magic_number = 10\n",
      "\n",
      "if guess == magic_number:\n",
      "    print(\"You Win!\")\n",
      "elif guess > magic_number:\n",
      "    print(\"Too high\")\n",
      "else:\n",
      "    print(\"Too low\")"
     ],
     "language": "python",
     "metadata": {},
     "outputs": [
      {
       "output_type": "stream",
       "stream": "stdout",
       "text": [
        "Too low\n"
       ]
      }
     ],
     "prompt_number": 18
    },
    {
     "cell_type": "markdown",
     "metadata": {},
     "source": [
      "if .. elif .. else\n",
      "\n",
      "Control Structures\n",
      "------------------\n",
      "\n",
      "Computers are ideal for doing repetitive tasks. How can we make a program do the same thing multiple times without having to issue the exact command each time?\n",
      "\n",
      "\n",
      "What is an algorithm for printing your name five times that you could explain to someone with short term memory problems?"
     ]
    },
    {
     "cell_type": "code",
     "collapsed": false,
     "input": [
      "print(\"my name\")"
     ],
     "language": "python",
     "metadata": {},
     "outputs": [
      {
       "output_type": "stream",
       "stream": "stdout",
       "text": [
        "my name\n"
       ]
      }
     ],
     "prompt_number": 19
    },
    {
     "cell_type": "code",
     "collapsed": false,
     "input": [
      "print(\"my name\")\n",
      "print(\"my name\")\n",
      "print(\"my name\")\n",
      "print(\"my name\")\n",
      "print(\"my name\")"
     ],
     "language": "python",
     "metadata": {},
     "outputs": [
      {
       "output_type": "stream",
       "stream": "stdout",
       "text": [
        "my name\n",
        "my name\n",
        "my name\n",
        "my name\n",
        "my name\n"
       ]
      }
     ],
     "prompt_number": 20
    },
    {
     "cell_type": "code",
     "collapsed": false,
     "input": [
      "fingers = 5\n",
      "\n",
      "while fingers > 0:\n",
      "    print(\"my name\")\n",
      "    fingers = fingers - 1\n",
      "    "
     ],
     "language": "python",
     "metadata": {},
     "outputs": [
      {
       "output_type": "stream",
       "stream": "stdout",
       "text": [
        "my name\n",
        "my name\n",
        "my name\n",
        "my name\n",
        "my name\n"
       ]
      }
     ],
     "prompt_number": 21
    },
    {
     "cell_type": "markdown",
     "metadata": {},
     "source": [
      "While Loop\n",
      "----------\n",
      "\n",
      "\n",
      "`while <test-is-true>:\n",
      "    do this`\n",
      "\n",
      "Careful, you can create an infinite loop if your test is always true!\n"
     ]
    },
    {
     "cell_type": "code",
     "collapsed": false,
     "input": [
      "while False:\n",
      "    print(\"never going to hapen\")\n",
      "print(\"All done\")"
     ],
     "language": "python",
     "metadata": {},
     "outputs": [
      {
       "output_type": "stream",
       "stream": "stdout",
       "text": [
        "All done\n"
       ]
      }
     ],
     "prompt_number": 1
    },
    {
     "cell_type": "code",
     "collapsed": false,
     "input": [
      "cash = 5\n",
      "donuts = 0\n",
      "\n",
      "while cash > 0:\n",
      "    print(\"Bought a donut for $1\")\n",
      "    cash = cash - 1\n",
      "    donuts = donuts + 1\n",
      "    \n",
      "print(\"cash: $%d\" % cash)\n",
      "print(\"donuts: %d\" % donuts)"
     ],
     "language": "python",
     "metadata": {},
     "outputs": [
      {
       "output_type": "stream",
       "stream": "stdout",
       "text": [
        "Bought a donut for $1\n",
        "Bought a donut for $1\n",
        "Bought a donut for $1\n",
        "Bought a donut for $1\n",
        "Bought a donut for $1\n",
        "cash: $0\n",
        "donuts: 5\n"
       ]
      }
     ],
     "prompt_number": 4
    },
    {
     "cell_type": "markdown",
     "metadata": {},
     "source": [
      "For Loop\n",
      "--------\n",
      "\n",
      "Sometimes you don't want a conditional loop. Sometimes you just want to *iterate* or do a loop over items in a list.\n",
      "\n",
      "First, we need to introduce a new type of data structure, like numbers or strings: *lists*\n",
      "Lists are used to group values together."
     ]
    },
    {
     "cell_type": "code",
     "collapsed": false,
     "input": [
      "my_guesses = [5, 1, 3, 4]\n",
      "\n",
      "print(my_guesses)"
     ],
     "language": "python",
     "metadata": {},
     "outputs": [
      {
       "output_type": "stream",
       "stream": "stdout",
       "text": [
        "[5, 1, 3, 4]\n"
       ]
      }
     ],
     "prompt_number": 6
    },
    {
     "cell_type": "code",
     "collapsed": false,
     "input": [
      "print(my_guesses[0])   # [0] means let's get the first value in the list (start with 0)"
     ],
     "language": "python",
     "metadata": {},
     "outputs": [
      {
       "output_type": "stream",
       "stream": "stdout",
       "text": [
        "5\n"
       ]
      }
     ],
     "prompt_number": 7
    },
    {
     "cell_type": "code",
     "collapsed": false,
     "input": [
      "print(my_guesses[1])   # [1] means let's get the second value in the list (start with 0)"
     ],
     "language": "python",
     "metadata": {},
     "outputs": [
      {
       "output_type": "stream",
       "stream": "stdout",
       "text": [
        "1\n"
       ]
      }
     ],
     "prompt_number": 8
    },
    {
     "cell_type": "code",
     "collapsed": false,
     "input": [
      "#Let's print out the guesses one at a time\n",
      "\n",
      "for guess in my_guesses:\n",
      "    print(guess)\n",
      "    \n"
     ],
     "language": "python",
     "metadata": {},
     "outputs": [
      {
       "output_type": "stream",
       "stream": "stdout",
       "text": [
        "5\n",
        "1\n",
        "3\n",
        "4\n"
       ]
      }
     ],
     "prompt_number": 9
    },
    {
     "cell_type": "code",
     "collapsed": false,
     "input": [
      "counter = [1,2,3,4,5]\n",
      "for c in counter:\n",
      "    print(\"counter: %d\" % c)\n",
      "    "
     ],
     "language": "python",
     "metadata": {},
     "outputs": [
      {
       "output_type": "stream",
       "stream": "stdout",
       "text": [
        "counter: 1\n",
        "counter: 2\n",
        "counter: 3\n",
        "counter: 4\n",
        "counter: 5\n"
       ]
      }
     ],
     "prompt_number": 10
    },
    {
     "cell_type": "code",
     "collapsed": false,
     "input": [
      "my_purse = [1, 4, \"cake\", \"tree\"]\n",
      "\n",
      "for item in my_purse:\n",
      "    print(item)\n",
      "    "
     ],
     "language": "python",
     "metadata": {},
     "outputs": [
      {
       "output_type": "stream",
       "stream": "stdout",
       "text": [
        "1\n",
        "4\n",
        "cake\n",
        "tree\n"
       ]
      }
     ],
     "prompt_number": 12
    },
    {
     "cell_type": "code",
     "collapsed": false,
     "input": [],
     "language": "python",
     "metadata": {},
     "outputs": []
    }
   ],
   "metadata": {}
  }
 ]
}