{
 "metadata": {
  "name": "Lesson 2 - Input & Output"
 },
 "nbformat": 3,
 "nbformat_minor": 0,
 "worksheets": [
  {
   "cells": [
    {
     "cell_type": "markdown",
     "metadata": {},
     "source": [
      "Input & Output\n",
      "==============\n",
      "\n",
      "Computers programs process input and product output. They may react to their environment. How they react and behave is up to you!\n",
      "\n",
      "Output\n",
      "======\n",
      "\n",
      "***print()*** is one of the most basic ways that a Python program can interact with its environment. It *prints* the value of whatever it is passed to the console screen."
     ]
    },
    {
     "cell_type": "code",
     "collapsed": false,
     "input": [
      "print(\"Hello World!\")"
     ],
     "language": "python",
     "metadata": {},
     "outputs": [
      {
       "output_type": "stream",
       "stream": "stdout",
       "text": [
        "Hello World!\n"
       ]
      }
     ],
     "prompt_number": 4
    },
    {
     "cell_type": "code",
     "collapsed": false,
     "input": [
      "msg = \"Hello World!\"\n",
      "print(msg)"
     ],
     "language": "python",
     "metadata": {},
     "outputs": [
      {
       "output_type": "stream",
       "stream": "stdout",
       "text": [
        "Hello World!\n"
       ]
      }
     ],
     "prompt_number": 5
    },
    {
     "cell_type": "code",
     "collapsed": false,
     "input": [
      "secret_code = 12345\n",
      "print(secret_code)"
     ],
     "language": "python",
     "metadata": {},
     "outputs": [
      {
       "output_type": "stream",
       "stream": "stdout",
       "text": [
        "12345\n"
       ]
      }
     ],
     "prompt_number": 6
    },
    {
     "cell_type": "code",
     "collapsed": false,
     "input": [
      "print(\"o\" * 10)"
     ],
     "language": "python",
     "metadata": {},
     "outputs": [
      {
       "output_type": "stream",
       "stream": "stdout",
       "text": [
        "oooooooooo\n"
       ]
      }
     ],
     "prompt_number": 7
    },
    {
     "cell_type": "code",
     "collapsed": false,
     "input": [
      "print(\"First Name\" + \" \" + \"Last Name\")"
     ],
     "language": "python",
     "metadata": {},
     "outputs": [
      {
       "output_type": "stream",
       "stream": "stdout",
       "text": [
        "First Name Last Name\n"
       ]
      }
     ],
     "prompt_number": 12
    },
    {
     "cell_type": "code",
     "collapsed": false,
     "input": [
      "first = \"Selena\"\n",
      "last = \"Gomez\"\n",
      "print(first + last)"
     ],
     "language": "python",
     "metadata": {},
     "outputs": [
      {
       "output_type": "stream",
       "stream": "stdout",
       "text": [
        "SelenaGomez\n"
       ]
      }
     ],
     "prompt_number": 15
    },
    {
     "cell_type": "code",
     "collapsed": false,
     "input": [
      "print(\"line1\\nline2\\nline3\")  #  \\n  means newline"
     ],
     "language": "python",
     "metadata": {},
     "outputs": [
      {
       "output_type": "stream",
       "stream": "stdout",
       "text": [
        "line1\n",
        "line2\n",
        "line3\n"
       ]
      }
     ],
     "prompt_number": 14
    },
    {
     "cell_type": "markdown",
     "metadata": {},
     "source": [
      "Other Outputs\n",
      "=============\n",
      "\n",
      "What are some other ways our computer programs can change their environment?\n",
      "\n",
      "* Web Output\n",
      "* Sound\n",
      "* Graphical Output & Animations\n",
      "* Change a game state (e.g. make a move)\n",
      "* Radio Signals\n",
      "* Robotics\n",
      "* SMS\n",
      "* Tweets\n"
     ]
    },
    {
     "cell_type": "code",
     "collapsed": false,
     "input": [
      "print(\"\\a\")   #Try this later"
     ],
     "language": "python",
     "metadata": {},
     "outputs": [
      {
       "output_type": "stream",
       "stream": "stdout",
       "text": [
        "\u0007\n"
       ]
      }
     ],
     "prompt_number": 11
    },
    {
     "cell_type": "markdown",
     "metadata": {},
     "source": [
      "Input\n",
      "=====\n",
      "\n",
      "A simple way to interact with users is through ***input()***. \n",
      "\n",
      "**This does not currently work in the IP[y] Notebook.**\n",
      "\n",
      "\n",
      "* Field Trip Time *\n",
      "==================="
     ]
    }
   ],
   "metadata": {}
  }
 ]
}